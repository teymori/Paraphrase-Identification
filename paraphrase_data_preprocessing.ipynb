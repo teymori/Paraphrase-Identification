{
 "cells": [
  {
   "cell_type": "markdown",
   "metadata": {},
   "source": [
    "#  Paraphrase Detection Data Preprocessing\n",
    "MSRP Corpus"
   ]
  },
  {
   "cell_type": "code",
   "execution_count": 6,
   "metadata": {},
   "outputs": [],
   "source": [
    "''' This script is to preprocess data from the MSRP dataset for paraphrase detection\n",
    "Adapted from Keras example at https://github.com/keras-team/keras/blob/master/examples/pretrained_word_embeddings.py\n",
    "'''\n",
    "import os\n",
    "import numpy as np\n",
    "import datetime, time, json\n",
    "from keras.preprocessing.text import Tokenizer\n",
    "from keras.preprocessing.sequence import pad_sequences\n",
    "import simplejson as json"
   ]
  },
  {
   "cell_type": "code",
   "execution_count": 7,
   "metadata": {},
   "outputs": [],
   "source": [
    "t0 = time.time()\n",
    "BASE_DIR = ''\n",
    "GLOVE_DIR = os.path.join(BASE_DIR, 'glove.6B')\n",
    "MSR_DIR = os.path.join(BASE_DIR, './msrp_dataset/')\n",
    "MSR_FILE = 'msr_paraphrase_train_test.txt'\n",
    "GLOVE_FILE = 'glove.6B.300d.txt'\n",
    "MAX_SEQUENCE_LENGTH = 30\n",
    "MAX_NUM_WORDS = 20000\n",
    "EMBEDDING_DIM = 300\n",
    "VALIDATION_SPLIT = 0.2"
   ]
  },
  {
   "cell_type": "markdown",
   "metadata": {},
   "source": [
    "# Extract sentence pairs"
   ]
  },
  {
   "cell_type": "code",
   "execution_count": 8,
   "metadata": {},
   "outputs": [
    {
     "name": "stdout",
     "output_type": "stream",
     "text": [
      "Processing msr_paraphrase_train_test.txt\n",
      "Sentence pairs: 5801\n"
     ]
    }
   ],
   "source": [
    "# Process sentence pairs from MSRP corpus\n",
    "\n",
    "print(\"Processing\", MSR_FILE)\n",
    "\n",
    "sentence1 = []\n",
    "sentence2 = []\n",
    "label = []\n",
    "\n",
    "with open(MSR_DIR + MSR_FILE, 'r', encoding='utf8') as f:\n",
    "    f.readline()  # skipping the header of the file\n",
    "    for line in f:\n",
    "        text = line.strip().split('\\t')\n",
    "        sentence1.append(text[3])\n",
    "        sentence2.append(text[4])\n",
    "        label.append(int(text[0]))\n",
    "        \n",
    "print ('Sentence pairs: %d' % len(sentence1))"
   ]
  },
  {
   "cell_type": "markdown",
   "metadata": {},
   "source": [
    "# Build tokenized word index"
   ]
  },
  {
   "cell_type": "code",
   "execution_count": 9,
   "metadata": {},
   "outputs": [
    {
     "name": "stdout",
     "output_type": "stream",
     "text": [
      "Words in index: 16538\n"
     ]
    }
   ],
   "source": [
    "# Build tokenized word index\n",
    "\n",
    "sentences = sentence1 + sentence2\n",
    "tokenizer = Tokenizer(num_words=MAX_NUM_WORDS)\n",
    "tokenizer.fit_on_texts(sentences)\n",
    "sentence1_word_sequences = tokenizer.texts_to_sequences(sentence1)\n",
    "sentence2_word_sequences = tokenizer.texts_to_sequences(sentence2)\n",
    "word_index = tokenizer.word_index\n",
    "\n",
    "print(\"Words in index: %d\" % len(word_index))"
   ]
  },
  {
   "cell_type": "markdown",
   "metadata": {},
   "source": [
    "# Download and process GloVe embeddings"
   ]
  },
  {
   "cell_type": "code",
   "execution_count": 10,
   "metadata": {},
   "outputs": [
    {
     "name": "stdout",
     "output_type": "stream",
     "text": [
      "Indexing word vectors.\n",
      "Processing glove.6B.300d.txt\n",
      "Found 400000 word vectors.\n"
     ]
    }
   ],
   "source": [
    "# first, build index mapping words in the embeddings set\n",
    "# to their embedding vector\n",
    "\n",
    "print('Indexing word vectors.')\n",
    "print(\"Processing\", GLOVE_FILE)\n",
    "\n",
    "embeddings_index = {}\n",
    "with open(os.path.join(GLOVE_DIR, GLOVE_FILE), encoding=\"utf8\") as f:\n",
    "    for line in f:\n",
    "        values = line.split(' ')\n",
    "        word = values[0]\n",
    "        coefs = np.asarray(values[1:], dtype='float32')\n",
    "        embeddings_index[word] = coefs\n",
    "\n",
    "print('Found %s word vectors.' % len(embeddings_index))"
   ]
  },
  {
   "cell_type": "markdown",
   "metadata": {},
   "source": [
    "# Prepare word embedding matrix"
   ]
  },
  {
   "cell_type": "code",
   "execution_count": 11,
   "metadata": {},
   "outputs": [
    {
     "name": "stdout",
     "output_type": "stream",
     "text": [
      "Preparing embedding matrix.\n",
      "Null word embeddings: 1483\n"
     ]
    }
   ],
   "source": [
    "print('Preparing embedding matrix.')\n",
    "\n",
    "num_words = min(MAX_NUM_WORDS, len(word_index))\n",
    "word_embedding_matrix = np.zeros((num_words + 1, EMBEDDING_DIM))\n",
    "for word, i in word_index.items():\n",
    "    if i > MAX_NUM_WORDS:\n",
    "        continue\n",
    "    embedding_vector = embeddings_index.get(word)\n",
    "    if embedding_vector is not None:\n",
    "        # words not found in embedding index will be all-zeros.\n",
    "        word_embedding_matrix[i] = embedding_vector\n",
    "\n",
    "print('Null word embeddings: %d' % np.sum(np.sum(word_embedding_matrix, axis=1) == 0))"
   ]
  },
  {
   "cell_type": "markdown",
   "metadata": {},
   "source": [
    "# Prepare training data tensors"
   ]
  },
  {
   "cell_type": "code",
   "execution_count": 13,
   "metadata": {},
   "outputs": [
    {
     "name": "stdout",
     "output_type": "stream",
     "text": [
      "Shape of sentence1 data tensor: (5801, 30)\n",
      "Shape of label tensor: (5801,)\n"
     ]
    }
   ],
   "source": [
    "s1_data = pad_sequences(sentence1_word_sequences, maxlen=MAX_SEQUENCE_LENGTH)\n",
    "s2_data = pad_sequences(sentence2_word_sequences, maxlen=MAX_SEQUENCE_LENGTH)\n",
    "labels = np.array(label, dtype=int)\n",
    "print('Shape of sentence1 data tensor:', s1_data.shape)\n",
    "print('Shape of label tensor:', labels.shape)"
   ]
  },
  {
   "cell_type": "markdown",
   "metadata": {},
   "source": [
    "# Save data to files"
   ]
  },
  {
   "cell_type": "code",
   "execution_count": 14,
   "metadata": {},
   "outputs": [],
   "source": [
    "S1_TRAINING_DATA_FILE = 's1_train.npy'\n",
    "S2_TRAINING_DATA_FILE = 's2_train.npy'\n",
    "LABEL_TRAINING_DATA_FILE = 'label_train.npy'\n",
    "WORD_EMBEDDING_MATRIX_FILE = 'word_embedding_matrix.npy'\n",
    "NUM_WORDS_DATA_FILE = 'num_words.json'\n",
    "\n",
    "np.save(open(S1_TRAINING_DATA_FILE, 'wb'), s1_data)\n",
    "np.save(open(S2_TRAINING_DATA_FILE, 'wb'), s2_data)\n",
    "np.save(open(LABEL_TRAINING_DATA_FILE, 'wb'), labels)\n",
    "np.save(open(WORD_EMBEDDING_MATRIX_FILE, 'wb'), word_embedding_matrix)\n",
    "with open(NUM_WORDS_DATA_FILE, 'w') as f:\n",
    "    json.dump({'num_words': num_words}, f)"
   ]
  },
  {
   "cell_type": "code",
   "execution_count": 15,
   "metadata": {},
   "outputs": [
    {
     "name": "stdout",
     "output_type": "stream",
     "text": [
      "<class 'numpy.ndarray'>\n",
      "(30,)\n",
      "(5801, 30)\n"
     ]
    }
   ],
   "source": [
    "print(type(s1_data))\n",
    "print(s1_data[0].shape)\n",
    "print(s2_data.shape)"
   ]
  },
  {
   "cell_type": "code",
   "execution_count": 16,
   "metadata": {},
   "outputs": [
    {
     "name": "stdout",
     "output_type": "stream",
     "text": [
      "Preprocessing ended at 2018-07-14 15:13:34.322545\n",
      "Minutes elapsed: 3.413918\n"
     ]
    }
   ],
   "source": [
    "t1 = time.time()\n",
    "print(\"Preprocessing ended at\", datetime.datetime.now())\n",
    "print(\"Minutes elapsed: %f\" % ((t1 - t0) / 60.))"
   ]
  }
 ],
 "metadata": {
  "kernelspec": {
   "display_name": "Python 3",
   "language": "python",
   "name": "python3"
  },
  "language_info": {
   "codemirror_mode": {
    "name": "ipython",
    "version": 3
   },
   "file_extension": ".py",
   "mimetype": "text/x-python",
   "name": "python",
   "nbconvert_exporter": "python",
   "pygments_lexer": "ipython3",
   "version": "3.5.2"
  }
 },
 "nbformat": 4,
 "nbformat_minor": 2
}
