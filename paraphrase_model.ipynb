{
 "cells": [
  {
   "cell_type": "markdown",
   "metadata": {},
   "source": [
    "# CA-RNN Model\n",
    "MSRP Corpus Paraphrase Detection\n",
    "Keras Model"
   ]
  },
  {
   "cell_type": "code",
   "execution_count": 4,
   "metadata": {},
   "outputs": [],
   "source": [
    "import numpy as np\n",
    "import datetime, time, json\n",
    "from keras.models import Sequential, Model\n",
    "from keras.layers import Input, Embedding, Dense, Dropout, concatenate, LSTM\n",
    "from keras.callbacks import Callback, ModelCheckpoint\n",
    "import matplotlib.pyplot as plt\n",
    "from sklearn.model_selection import train_test_split\n",
    "from keras.callbacks import TensorBoard\n",
    "from keras.layers.wrappers import Bidirectional\n",
    "from keras.utils import plot_model"
   ]
  },
  {
   "cell_type": "code",
   "execution_count": 5,
   "metadata": {},
   "outputs": [],
   "source": [
    "# Initialize global variables\n",
    "S1_TRAINING_DATA_FILE = 's1_train.npy'\n",
    "S2_TRAINING_DATA_FILE = 's2_train.npy'\n",
    "LABEL_TRAINING_DATA_FILE = 'label_train.npy'\n",
    "WORD_EMBEDDING_MATRIX_FILE = 'word_embedding_matrix.npy'\n",
    "NUM_WORDS_DATA_FILE = 'num_words.json'\n",
    "MAX_NUM_WORDS = 20000\n",
    "MAX_SEQUENCE_LENGTH = 30\n",
    "EMBEDDING_DIM = 300\n",
    "MODEL_WEIGHTS_FILE = 'paraphrase_pairs_weights.h5'\n",
    "VALIDATION_SPLIT = 0.2\n",
    "TEST_SPLIT = 0.2\n",
    "RNG_SEED = 13371447\n",
    "NUM_EPOCHS = 25\n",
    "DROPOUT = 0.2\n",
    "BATCH_SIZE = 32\n",
    "OPTIMIZER = 'adadelta'\n",
    "HIDDEN_SIZE = 50"
   ]
  },
  {
   "cell_type": "code",
   "execution_count": 6,
   "metadata": {},
   "outputs": [],
   "source": [
    "# Load the dataset, embedding matrix and word count\n",
    "\n",
    "s1_data = np.load(open(S1_TRAINING_DATA_FILE, 'rb'))\n",
    "s2_data = np.load(open(S2_TRAINING_DATA_FILE, 'rb'))\n",
    "labels = np.load(open(LABEL_TRAINING_DATA_FILE, 'rb'))\n",
    "word_embedding_matrix = np.load(open(WORD_EMBEDDING_MATRIX_FILE, 'rb'))\n",
    "\n",
    "with open(NUM_WORDS_DATA_FILE, 'r') as f:\n",
    "    num_words = json.load(f)['num_words']"
   ]
  },
  {
   "cell_type": "code",
   "execution_count": 10,
   "metadata": {},
   "outputs": [
    {
     "name": "stdout",
     "output_type": "stream",
     "text": [
      "Shape of sentence data: (5801, 30)\n",
      "Shape of label data: (5801,)\n"
     ]
    }
   ],
   "source": [
    "print('Shape of sentence data:', s1_data.shape)\n",
    "print('Shape of label data:',labels.shape)\n",
    "\n"
   ]
  },
  {
   "cell_type": "markdown",
   "metadata": {},
   "source": [
    " # Divide the data into train and test set"
   ]
  },
  {
   "cell_type": "code",
   "execution_count": 13,
   "metadata": {},
   "outputs": [],
   "source": [
    "# Divide the dataset into train and test sets\n",
    "X = np.stack((s1_data, s2_data), axis=1)\n",
    "y = labels\n",
    "X_train, X_test, y_train, y_test = train_test_split(X, y, test_size=TEST_SPLIT, random_state=RNG_SEED)\n",
    "\n",
    "s1_train = X_train[:,0]\n",
    "s2_train = X_train[:,1]\n",
    "\n",
    "s1_test = X_test[:,0]\n",
    "s2_test = X_test[:,1]"
   ]
  },
  {
   "cell_type": "markdown",
   "metadata": {},
   "source": [
    "# Define the model"
   ]
  },
  {
   "cell_type": "code",
   "execution_count": 15,
   "metadata": {},
   "outputs": [],
   "source": [
    "# define the model\n",
    "sentence1 = Input(shape=(MAX_SEQUENCE_LENGTH,))\n",
    "sentence2 = Input(shape=(MAX_SEQUENCE_LENGTH,))\n",
    "\n",
    "s1 = Embedding(num_words + 1, \n",
    "                 EMBEDDING_DIM, \n",
    "                 weights=[word_embedding_matrix], \n",
    "                 input_length=MAX_SEQUENCE_LENGTH, \n",
    "                 trainable=True)(sentence1)\n",
    "s1 = Bidirectional(LSTM(HIDDEN_SIZE, dropout=0.2, recurrent_dropout=0.2))(s1)"
   ]
  },
  {
   "cell_type": "code",
   "execution_count": 17,
   "metadata": {},
   "outputs": [],
   "source": [
    "s2 = Embedding(num_words + 1, \n",
    "                 EMBEDDING_DIM, \n",
    "                 weights=[word_embedding_matrix], \n",
    "                 input_length=MAX_SEQUENCE_LENGTH, \n",
    "                 trainable=True)(sentence2)\n",
    "s2 = Bidirectional(LSTM(HIDDEN_SIZE, dropout=0.2, recurrent_dropout=0.2))(s2)"
   ]
  },
  {
   "cell_type": "code",
   "execution_count": 18,
   "metadata": {},
   "outputs": [],
   "source": [
    "merged = concatenate([s1,s2])\n",
    "\n",
    "is_paraphrase = Dense(1, activation='sigmoid')(merged)\n",
    "\n",
    "model = Model(inputs=[sentence1,sentence2], outputs=is_paraphrase)\n",
    "model.compile(loss='binary_crossentropy', optimizer=OPTIMIZER, metrics=['accuracy'])\n"
   ]
  },
  {
   "cell_type": "markdown",
   "metadata": {},
   "source": [
    "# Plot results"
   ]
  },
  {
   "cell_type": "code",
   "execution_count": 19,
   "metadata": {},
   "outputs": [],
   "source": [
    "tensorboard  = TensorBoard(log_dir='./Graph', \n",
    "                                          histogram_freq=0,\n",
    "                                          write_graph=True, \n",
    "                                          write_images=True)"
   ]
  },
  {
   "cell_type": "code",
   "execution_count": 20,
   "metadata": {},
   "outputs": [
    {
     "name": "stdout",
     "output_type": "stream",
     "text": [
      "Starting training at 2018-07-14 15:26:21.108810\n",
      "Train on 3712 samples, validate on 928 samples\n",
      "Epoch 1/25\n",
      " - 45s - loss: 0.6166 - acc: 0.6853 - val_loss: 0.6026 - val_acc: 0.6789\n",
      "Epoch 2/25\n",
      " - 44s - loss: 0.5928 - acc: 0.6961 - val_loss: 0.6005 - val_acc: 0.6789\n",
      "Epoch 3/25\n",
      " - 44s - loss: 0.5838 - acc: 0.7039 - val_loss: 0.6013 - val_acc: 0.6832\n",
      "Epoch 4/25\n",
      " - 43s - loss: 0.5681 - acc: 0.7091 - val_loss: 0.6265 - val_acc: 0.6886\n",
      "Epoch 5/25\n",
      " - 46s - loss: 0.5565 - acc: 0.7196 - val_loss: 0.6203 - val_acc: 0.6897\n",
      "Epoch 6/25\n",
      " - 44s - loss: 0.5414 - acc: 0.7320 - val_loss: 0.6362 - val_acc: 0.6886\n",
      "Epoch 7/25\n",
      " - 44s - loss: 0.5178 - acc: 0.7522 - val_loss: 0.6283 - val_acc: 0.6864\n",
      "Epoch 8/25\n",
      " - 45s - loss: 0.5019 - acc: 0.7645 - val_loss: 0.6344 - val_acc: 0.6789\n",
      "Epoch 9/25\n",
      " - 46s - loss: 0.4661 - acc: 0.7848 - val_loss: 0.6544 - val_acc: 0.6767\n",
      "Epoch 10/25\n",
      " - 48s - loss: 0.4453 - acc: 0.7969 - val_loss: 0.6903 - val_acc: 0.6843\n",
      "Epoch 11/25\n",
      " - 49s - loss: 0.4106 - acc: 0.8184 - val_loss: 0.7096 - val_acc: 0.6724\n",
      "Epoch 12/25\n",
      " - 49s - loss: 0.3726 - acc: 0.8354 - val_loss: 0.7973 - val_acc: 0.6800\n",
      "Epoch 13/25\n",
      " - 48s - loss: 0.3426 - acc: 0.8529 - val_loss: 0.7463 - val_acc: 0.6466\n",
      "Epoch 14/25\n",
      " - 48s - loss: 0.2966 - acc: 0.8755 - val_loss: 0.7989 - val_acc: 0.6509\n",
      "Epoch 15/25\n",
      " - 48s - loss: 0.2690 - acc: 0.8904 - val_loss: 0.8452 - val_acc: 0.6401\n",
      "Epoch 16/25\n",
      " - 48s - loss: 0.2333 - acc: 0.9076 - val_loss: 0.9439 - val_acc: 0.6692\n",
      "Epoch 17/25\n",
      " - 49s - loss: 0.2000 - acc: 0.9235 - val_loss: 0.9748 - val_acc: 0.6422\n",
      "Epoch 18/25\n",
      " - 49s - loss: 0.1763 - acc: 0.9340 - val_loss: 1.0216 - val_acc: 0.6422\n",
      "Epoch 19/25\n",
      " - 48s - loss: 0.1484 - acc: 0.9440 - val_loss: 1.0813 - val_acc: 0.6573\n",
      "Epoch 20/25\n",
      " - 49s - loss: 0.1212 - acc: 0.9593 - val_loss: 1.1304 - val_acc: 0.6422\n",
      "Epoch 21/25\n",
      " - 49s - loss: 0.1012 - acc: 0.9626 - val_loss: 1.2535 - val_acc: 0.6390\n",
      "Epoch 22/25\n",
      " - 59s - loss: 0.1025 - acc: 0.9644 - val_loss: 1.2238 - val_acc: 0.6466\n",
      "Epoch 23/25\n",
      " - 61s - loss: 0.0901 - acc: 0.9690 - val_loss: 1.3311 - val_acc: 0.6498\n",
      "Epoch 24/25\n",
      " - 65s - loss: 0.0727 - acc: 0.9752 - val_loss: 1.4215 - val_acc: 0.6131\n",
      "Epoch 25/25\n",
      " - 61s - loss: 0.0657 - acc: 0.9793 - val_loss: 1.5292 - val_acc: 0.6573\n",
      "Training ended at 2018-07-14 15:47:01.325662\n",
      "Minutes elapsed: 20.670273\n"
     ]
    }
   ],
   "source": [
    "# Train the model, checkpointing weights with best validation accuracy\n",
    "print(\"Starting training at\", datetime.datetime.now())\n",
    "t0 = time.time()\n",
    "callbacks = [ModelCheckpoint(MODEL_WEIGHTS_FILE, monitor='val_acc', save_best_only=True), tensorboard]\n",
    "\n",
    "history = model.fit([s1_train, s2_train],\n",
    "                    y_train,\n",
    "                    epochs=NUM_EPOCHS,\n",
    "                    validation_split=VALIDATION_SPLIT,\n",
    "                    verbose=2,\n",
    "                    shuffle=True,\n",
    "                    batch_size=BATCH_SIZE,\n",
    "                    callbacks=callbacks)\n",
    "t1 = time.time()\n",
    "print(\"Training ended at\", datetime.datetime.now())\n",
    "print(\"Minutes elapsed: %f\" % ((t1 - t0) / 60.))"
   ]
  },
  {
   "cell_type": "code",
   "execution_count": 21,
   "metadata": {},
   "outputs": [
    {
     "name": "stdout",
     "output_type": "stream",
     "text": [
      "Maximum validation accuracy = 0.6897 (epoch 5)\n",
      "Test loss = 0.5840, test accuracy = 0.7046\n"
     ]
    }
   ],
   "source": [
    "# Print best validation accuracy and epoch\n",
    "max_val_acc, idx = max((val, idx) for (idx, val) in enumerate(history.history['val_acc']))\n",
    "print('Maximum validation accuracy = {0:.4f} (epoch {1:d})'.format(max_val_acc, idx+1))\n",
    "\n",
    "# Evaluate the model with best validation accuracy on the test partition\n",
    "model.load_weights(MODEL_WEIGHTS_FILE)\n",
    "loss, accuracy = model.evaluate([s1_test, s2_test], y_test, verbose=0)\n",
    "print('Test loss = {0:.4f}, test accuracy = {1:.4f}'.format(loss, accuracy))"
   ]
  },
  {
   "cell_type": "code",
   "execution_count": 22,
   "metadata": {},
   "outputs": [
    {
     "name": "stdout",
     "output_type": "stream",
     "text": [
      "__________________________________________________________________________________________________\n",
      "Layer (type)                    Output Shape         Param #     Connected to                     \n",
      "==================================================================================================\n",
      "input_3 (InputLayer)            (None, 30)           0                                            \n",
      "__________________________________________________________________________________________________\n",
      "input_4 (InputLayer)            (None, 30)           0                                            \n",
      "__________________________________________________________________________________________________\n",
      "embedding_2 (Embedding)         (None, 30, 300)      4961700     input_3[0][0]                    \n",
      "__________________________________________________________________________________________________\n",
      "embedding_4 (Embedding)         (None, 30, 300)      4961700     input_4[0][0]                    \n",
      "__________________________________________________________________________________________________\n",
      "bidirectional_2 (Bidirectional) (None, 100)          140400      embedding_2[0][0]                \n",
      "__________________________________________________________________________________________________\n",
      "bidirectional_4 (Bidirectional) (None, 100)          140400      embedding_4[0][0]                \n",
      "__________________________________________________________________________________________________\n",
      "concatenate_1 (Concatenate)     (None, 200)          0           bidirectional_2[0][0]            \n",
      "                                                                 bidirectional_4[0][0]            \n",
      "__________________________________________________________________________________________________\n",
      "dense_1 (Dense)                 (None, 1)            201         concatenate_1[0][0]              \n",
      "==================================================================================================\n",
      "Total params: 10,204,401\n",
      "Trainable params: 10,204,401\n",
      "Non-trainable params: 0\n",
      "__________________________________________________________________________________________________\n"
     ]
    }
   ],
   "source": [
    "model.summary()"
   ]
  },
  {
   "cell_type": "code",
   "execution_count": 23,
   "metadata": {},
   "outputs": [
    {
     "data": {
      "image/png": "[encoded data removed]",
      "text/plain": [
       "<Figure size 432x288 with 2 Axes>"
      ]
     },
     "metadata": {},
     "output_type": "display_data"
    }
   ],
   "source": [
    "# Plot the loss and accuracy values over time \n",
    "plt.subplot(211)\n",
    "plt.title(\"Accuracy\")\n",
    "plt.plot(history.history[\"acc\"], color=\"g\", label=\"Train\")\n",
    "plt.plot(history.history[\"val_acc\"], color=\"b\", label=\"Validation\")\n",
    "plt.legend(loc=\"best\")\n",
    "\n",
    "plt.subplot(212)\n",
    "plt.title(\"Loss\")\n",
    "plt.plot(history.history[\"loss\"], color=\"g\", label=\"Train\")\n",
    "plt.plot(history.history[\"val_loss\"], color=\"b\", label=\"Validation\")\n",
    "plt.legend(loc=\"best\")\n",
    "\n",
    "plt.tight_layout()\n",
    "plt.show()"
   ]
  },
  {
   "cell_type": "markdown",
   "metadata": {},
   "source": [
    "# Print best validation accuracy and epoch"
   ]
  },
  {
   "cell_type": "code",
   "execution_count": 24,
   "metadata": {},
   "outputs": [
    {
     "name": "stdout",
     "output_type": "stream",
     "text": [
      "Maximum accuracy at epoch 5 = 0.6897\n"
     ]
    }
   ],
   "source": [
    "max_val_acc, idx = max((val, idx) for (idx, val) in enumerate(history.history['val_acc']))\n",
    "print('Maximum accuracy at epoch', '{:d}'.format(idx+1), '=', '{:.4f}'.format(max_val_acc))"
   ]
  },
  {
   "cell_type": "markdown",
   "metadata": {},
   "source": [
    "# Evaluate the model with best validation accuracy on the test partition"
   ]
  },
  {
   "cell_type": "code",
   "execution_count": 25,
   "metadata": {},
   "outputs": [
    {
     "name": "stdout",
     "output_type": "stream",
     "text": [
      "loss = 0.5840, accuracy = 0.7046\n"
     ]
    }
   ],
   "source": [
    "model.load_weights(MODEL_WEIGHTS_FILE)\n",
    "loss, accuracy = model.evaluate([s1_test, s2_test], y_test, verbose=0)\n",
    "print('loss = {0:.4f}, accuracy = {1:.4f}'.format(loss, accuracy))"
   ]
  },
  {
   "cell_type": "markdown",
   "metadata": {},
   "source": [
    "# Save graph of model to a file"
   ]
  },
  {
   "cell_type": "code",
   "execution_count": 27,
   "metadata": {},
   "outputs": [],
   "source": [
    "plot_model(model, to_file='paraphrase-model.png', show_shapes=True)\n"
   ]
  },
  {
   "cell_type": "markdown",
   "metadata": {},
   "source": [
    "<img src=\"paraphrase-model.png\">"
   ]
  },
  {
   "cell_type": "code",
   "execution_count": null,
   "metadata": {},
   "outputs": [],
   "source": []
  }
 ],
 "metadata": {
  "kernelspec": {
   "display_name": "Python 3",
   "language": "python",
   "name": "python3"
  },
  "language_info": {
   "codemirror_mode": {
    "name": "ipython",
    "version": 3
   },
   "file_extension": ".py",
   "mimetype": "text/x-python",
   "name": "python",
   "nbconvert_exporter": "python",
   "pygments_lexer": "ipython3",
   "version": "3.5.2"
  }
 },
 "nbformat": 4,
 "nbformat_minor": 2
}
